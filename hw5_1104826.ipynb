{
  "nbformat": 4,
  "nbformat_minor": 0,
  "metadata": {
    "colab": {
      "name": "hw5_1104826.ipynb",
      "provenance": [],
      "collapsed_sections": []
    },
    "kernelspec": {
      "name": "python3",
      "display_name": "Python 3"
    },
    "language_info": {
      "name": "python"
    }
  },
  "cells": [
    {
      "cell_type": "markdown",
      "source": [
        "## homework no: 5\n",
        "## Your name:    Santhosh Prabakaran          student ID: 1104826\n",
        "### When you use code, either from another student or an outside source, you should cite it. Tell me where the code comes from. \n",
        "#### (  v )  1. I totally write by myself (都自己寫)\n",
        "#### (    ) 2. other students (參考同學,註明姓名學號):   name and student id \n",
        "#### (    ) 3. outside source (參考外部資料網站), where:\n",
        "### If you choose 2 or 3, please tell me the degree of copy. (如果選2,3, 請勾選copy程度)\n",
        "#### (  ) < 25%      (  )  25%..50%     (   ) 50%..75%        (    ) > 75%\n",
        "### Give me grade (期望分數): 100\n",
        "### Reasons (理由): I used to write all codes by myself, I haven't even discussed about the concepts or errors.\n"
      ],
      "metadata": {
        "id": "Z1qndFgwVAr1"
      }
    },
    {
      "cell_type": "code",
      "source": [
        "import re\n",
        "import os\n",
        "\n",
        "data_path = \"/content/drive/MyDrive/santhosh works/sp500_2020\"\n",
        "data_path2 = \"/content/drive/MyDrive/santhosh works/virus_2019\"\n",
        "\n",
        "temp1 = []\n",
        "temp2 = []\n",
        "\n",
        "count = 0\n",
        "count2 = 0\n",
        "\n",
        "for list1 in os.listdir(data_path):\n",
        "    temp1.append(list1)\n",
        "for list2 in os.listdir(data_path2):\n",
        "    temp2.append(list2)\n",
        "    \n",
        "regm = []\n",
        "regu = []\n",
        "\n",
        "for r1 in range(len(temp1)):\n",
        "    for r2 in range(len(temp2)):\n",
        "        rd1 = temp1[r1]\n",
        "        rd2 = temp2[r2]\n",
        "        if re.findall(\"{}$\".format(rd1), rd2):\n",
        "          regm.append(rd2)\n",
        "        else:\n",
        "          regu.append(rd2)\n",
        "\n",
        "\n",
        "regfm = []\n",
        "for i in regm:\n",
        "    if i not in regfm:\n",
        "        regfm.append(i)\n",
        "\n",
        "regfu = []\n",
        "for i in temp2:\n",
        "    if i not in regm:\n",
        "        regfu.append(i)\n",
        "\n",
        "print(regfm)    # Matched files\n",
        "print(regfu)    # Unmatched files\n",
        "\n",
        "print(len(regfm))    # length matched files\n",
        "print(len(regfu))    # length Unmatched files"
      ],
      "metadata": {
        "colab": {
          "base_uri": "https://localhost:8080/"
        },
        "id": "wRP5D3LEMyE9",
        "outputId": "3384b7bd-2f86-4fa4-f082-200963ea0f7a"
      },
      "execution_count": 11,
      "outputs": [
        {
          "output_type": "stream",
          "name": "stdout",
          "text": [
            "['15MA.csv', '32CMCSA.csv', '79BA.csv', '149EA.csv', '162WBA.csv', '171PSA.csv', '176HCA.csv', '181A.csv', '259CTVA.csv', '332ZBRA.csv', '333MAA.csv', '341ULTA.csv', '379FOXA.csv', '423DVA.csv', '426SNA.csv', '443BWA.csv', '461CMA.csv', '473NWSA.csv', '476APA.csv', '484DISCA.csv', '396AAP.csv', '479AAL.csv', '34ABBV.csv', '318ABC.csv', '398ABMD.csv', '33ABT.csv', '44ACN.csv', '28ADBE.csv', '136ADI.csv', '242ADM.csv', '90ADP.csv', '135ADSK.csv', '266AEE.csv', '138AEP.csv', '409AES.csv', '450AIZ.csv', '193AFL.csv', '207AIG.csv', '275AJG.csv', '279AKAM.csv', '287ALGN.csv', '435ALB.csv', '485ALK.csv', '160ALL.csv', '389ALLE.csv', '206ALXN.csv', '107AMAT.csv', '288AMCR.csv', '82AMD.csv', '254AME.csv', '37AMGN.csv', '280AMP.csv', '53AMT.csv', '3AMZN.csv', '348ANET.csv', '216ANSS.csv', '75ANTM.csv', '119AON.csv', '446AOS.csv', '109APD.csv', '190APH.csv', '272APTV.csv', '261ARE.csv', '345ATO.csv', '99ATVI.csv', '223AVB.csv', '48AVGO.csv', '392AVY.csv', '224AWK.csv', '98AXP.csv', '184AZO.csv', '26BAC.csv', '155SBAC.csv', '125BAX.csv', '256BBY.csv', '73BDX.csv', '454BEN.csv', '96BIIB.csv', '170BK.csv', '92BKNG.csv', '378BKR.csv', '68BLK.csv', '229BLL.csv', '35BMY.csv', '308BR.csv', '110BSX.csv', '355BXP.csv', '13INTC.csv', '56WFC.csv', '57C.csv', '103MMC.csv', '113NOC.csv', '128NSC.csv', '130TFC.csv', '131PNC.csv', '140CNC.csv', '147EXC.csv', '166KLAC.csv', '172WEC.csv', '221MKC.csv', '231MPC.csv', '251VFC.csv', '253KHC.csv', '273FRC.csv', '314VMC.csv', '321PAYC.csv', '337WDC.csv', '342FMC.csv', '363GPC.csv', '375VIAC.csv', '386ETFC.csv', '410HSIC.csv', '431LNC.csv', '471HFC.csv', '475DXC.csv', '270CAG.csv', '298CAH.csv', '305CARR.csv', '89CAT.csv', '122CB.csv', '353CBOE.csv', '83CCI.csv', '458CCL.csv', '295CDW.csv', '204CDNS.csv', '104ICE.csv', '377CE.csv', '226CERN.csv', '227CERN.csv', '451CF.csv', '387CFG.csv', '255CHD.csv', '367CHRW.csv', '67CHTR.csv', '76CI.csv', '163MSCI.csv', '212JCI.csv', '413CINF.csv', '43ORCL.csv', '94CL.csv', '114ECL.csv', '440RCL.csv', '179CLX.csv', '80CME.csv', '197CMG.csv', '195CMI.csv', '284CMS.csv', '393CNP.csv', '169COF.csv', '414COG.csv', '293COO.csv', '127COP.csv', '40COST.csv', '382CPB.csv', '267CPRT.csv', '36CRM.csv', '23CSCO.csv', '112CSX.csv', '244CTAS.csv', '167CTSH.csv', '263CTXS.csv', '63CVS.csv', '29CVX.csv', '14HD.csv', '41MCD.csv', '54GILD.csv', '78D.csv', '84PLD.csv', '151DD.csv', '156GD.csv', '196ED.csv', '202RMD.csv', '264MTD.csv', '303PXD.csv', '320EXPD.csv', '347DAL.csv', '133DE.csv', '325DFS.csv', '117DG.csv', '269TDG.csv', '291DGX.csv', '281DHI.csv', '52DHR.csv', '22DIS.csv', '438DISCK.csv', '436DISH.csv', '148DLR.csv', '252DLTR.csv', '322DOV.csv', '188DOW.csv', '292DPZ.csv', '346DRE.csv', '403DRI.csv', '246DTE.csv', '87DUK.csv', '464DVN.csv', '144DXCM.csv', '153EBAY.csv', '258EFX.csv', '401EMN.csv', '152EMR.csv', '168EOG.csv', '91EQIX.csv', '233EQR.csv', '186ES.csv', '352HES.csv', '289ESS.csv', '157ETN.csv', '245ETR.csv', '310EVRG.csv', '121EW.csv', '383EXPE.csv', '359EXR.csv', '241F.csv', '302TIF.csv', '304IFF.csv', '372SYF.csv', '380RF.csv', '412RJF.csv', '437FANG.csv', '214FAST.csv', '4FB.csv', '419FBHS.csv', '330FCX.csv', '178FDX.csv', '17PFE.csv', '217FE.csv', '402FFIV.csv', '64FIS.csv', '97FISV.csv', '340FITB.csv', '441FLIR.csv', '490FLS.csv', '243FLT.csv', '474FOX.csv', '456FRT.csv', '493FTI.csv', '235FTNT.csv', '108GE.csv', '142GIS.csv', '429GL.csv', '285GLW.csv', '165GM.csv', '425MGM.csv', '6GOOG.csv', '111GPN.csv', '349GRMN.csv', '100GS.csv', '328GWW.csv', '388HAL.csv', '400HAS.csv', '405HBAN.csv', '331HIG.csv', '421HII.csv', '240HLT.csv', '300HOLX.csv', '59HON.csv', '336HPE.csv', '219HPQ.csv', '307HRL.csv', '487HBI.csv', '420HST.csv', '236HSY.csv', '105HUM.csv', '50IBM.csv', '182IDXX.csv', '350IEX.csv', '115ILMN.csv', '265INCY.csv', '174INFO.csv', '70INTU.csv', '323IP.csv', '442IPG.csv', '453IPGP.csv', '194IQV.csv', '376IR.csv', '433IRM.csv', '88ISRG.csv', '368IT.csv', '120ITW.csv', '495IVZ.csv', '7JNJ.csv', '371J.csv', '395JBHT.csv', '297JKHY.csv', '411JNPR.csv', '12JPM.csv', '19MRK.csv', '93SYK.csv', '185VRSK.csv', '211ROK.csv', '225MCK.csv', '278SWK.csv', '277K.csv', '335NLOK.csv', '357PEAK.csv', '358PEAK.csv', '434WRK.csv', '463MHK.csv', '369KEY.csv', '250KEYS.csv', '477KIM.csv', '116KMB.csv', '164KMI.csv', '324KMX.csv', '31KO.csv', '177KR.csv', '306KSU.csv', '30PYPL.csv', '159XEL.csv', '200TEL.csv', '238PPL.csv', '271WELL.csv', '296ODFL.csv', '360XYL.csv', '384CTL.csv', '407MYL.csv', '416L.csv', '444ROL.csv', '466NWL.csv', '469UAL.csv', '472NBL.csv', '482RL.csv', '208SLB.csv', '496LB.csv', '315LDOS.csv', '480LEG.csv', '301LEN.csv', '274LH.csv', '497NCLH.csv', '134LHX.csv', '55LIN.csv', '418LKQ.csv', '39LLY.csv', '60LMT.csv', '354LNT.csv', '62LOW.csv', '137LRCX.csv', '309LUV.csv', '282LVS.csv', '406LW.csv', '299LYB.csv', '448LYV.csv', '218MAR.csv', '338MAS.csv', '228MCHP.csv', '132MCO.csv', '71MDLZ.csv', '42MDT.csv', '187MET.csv', '247MKTX.csv', '361MLM.csv', '66MMM.csv', '189MNST.csv', '38TMO.csv', '77MO.csv', '478MOS.csv', '126MS.csv', '1MSFT.csv', '215MSI.csv', '327MTB.csv', '106MU.csv', '294MXIM.csv', '101NEM.csv', '21NFLX.csv', '397NI.csv', '46NKE.csv', '465NLSN.csv', '468NOV.csv', '74NOW.csv', '399NRG.csv', '373NTAP.csv', '286NTRS.csv', '344NUE.csv', '370NVR.csv', '95SO.csv', '192VLO.csv', '260O.csv', '290TTWO.csv', '316TSCO.csv', '343QRVO.csv', '356CXO.csv', '424PRGO.csv', '447VNO.csv', '319OKE.csv', '161ORLY.csv', '237OTIS.csv', '326OXY.csv', '232PAYX.csv', '457PBCT.csv', '205PCAR.csv', '199PEG.csv', '24PEP.csv', '391PFG.csv', '10PG.csv', '230PPG.csv', '276SPG.csv', '239PH.csv', '422PHM.csv', '385PKG.csv', '366PKI.csv', '49PM.csv', '445PNR.csv', '404PNW.csv', '220PRU.csv', '154PSX.csv', '489PVH.csv', '467PWR.csv', '58QCOM.csv', '439REG.csv', '150SRE.csv', '329BRE.csv', '432RE.csv', '118REGN.csv', '452RHI.csv', '143ROP.csv', '158ROST.csv', '262RSG.csv', '65RTX.csv', '72VRTX.csv', '61SBUX.csv', '139SCHW.csv', '460SEE.csv', '123SHW.csv', '318SIVB.csv', '381SIVB.csv', '311SJM.csv', '483SLG.csv', '198SNPS.csv', '69SPGI.csv', '313STE.csv', '234STT.csv', '351STX.csv', '173STZ.csv', '248SWKS.csv', '249SWKS.csv', '191SYY.csv', '18T.csv', '27WMT.csv', '85TGT.csv', '339WAT.csv', '449TXT.csv', '428TAP.csv', '283TFX.csv', '102TJX.csv', '146TMUS.csv', '481TPR.csv', '175TROW.csv', '201TRV.csv', '257TSN.csv', '213TWTR.csv', '51TXN.csv', '365UDR.csv', '417UHS.csv', '11UNH.csv', '492UNM.csv', '47UNP.csv', '81UPS.csv', '390URI.csv', '124USB.csv', '9V.csv', '268FTV.csv', '455AIV.csv', '362VAR.csv', '210VRSN.csv', '364VTR.csv', '16VZ.csv', '374WAB.csv', '430WHR.csv', '180WLTW.csv', '141WM.csv', '470HWM.csv', '209WMB.csv', '427WRB.csv', '408WU.csv', '312WY.csv', '415WYNN.csv', '222XLNX.csv', '394XRAY.csv', '491XRX.csv', '183YUM.csv', '203ZBH.csv', '459ZION.csv', '86ZTS.csv', '25XOM.csv']\n",
            "['SP500.csv', '45NEE.csv', '129PGR.csv', 'VIRUSCASE.rar', '486HOG.csv', '488HRB.csv', '494KSS.csv', '498HP.csv', '499JWN.csv', '500ADS.csv', 'VIRUSCASE.csv']\n",
            "485\n",
            "11\n"
          ]
        }
      ]
    },
    {
      "cell_type": "code",
      "source": [
        ""
      ],
      "metadata": {
        "id": "0HklsXdwV480"
      },
      "execution_count": null,
      "outputs": []
    }
  ]
}